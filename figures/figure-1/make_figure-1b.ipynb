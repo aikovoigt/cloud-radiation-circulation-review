{
 "cells": [
  {
   "cell_type": "markdown",
   "metadata": {},
   "source": [
    "# Sampling of tropical marine cloud-radiative effects and cloud cover as a function of pressure velocity at 500hPa\n",
    "\n",
    "This notebook reproduces Figure 1b. The sampling time-scale is monthly.\n",
    "\n",
    "Data: ERA-Interim for omega at 500hPa. CERES EBAF edition 4.1 for cloud-radiative effects. CALIPSO-GOCCP for cloud cover. ERA-Interim and CALIPSO-GOCCP have been interpolated to the CERES EBAF horizontal grid."
   ]
  },
  {
   "cell_type": "markdown",
   "metadata": {},
   "source": [
    "### Load libraries"
   ]
  },
  {
   "cell_type": "code",
   "execution_count": 1,
   "metadata": {},
   "outputs": [],
   "source": [
    "import xarray as xr\n",
    "import numpy as np\n",
    "import matplotlib.pyplot as plt"
   ]
  },
  {
   "cell_type": "markdown",
   "metadata": {},
   "source": [
    "For reference, print package versions to screen"
   ]
  },
  {
   "cell_type": "code",
   "execution_count": 2,
   "metadata": {},
   "outputs": [
    {
     "name": "stdout",
     "output_type": "stream",
     "text": [
      "xarrary:    0.15.1\n",
      "numpy:      1.18.1\n",
      "matplotlib: 3.2.1\n"
     ]
    }
   ],
   "source": [
    "print('xarrary:   ', xr.__version__)\n",
    "print('numpy:     ', np.__version__)\n",
    "import matplotlib; print('matplotlib:', matplotlib.__version__); del matplotlib"
   ]
  },
  {
   "cell_type": "markdown",
   "metadata": {},
   "source": [
    "### Load data for common years 2007-2018\n",
    "\n",
    "Note that for CALIPSO-GOCCP, February 2016 is missing, so this month is also excluded for ERA-Interim and CERES EBAF."
   ]
  },
  {
   "cell_type": "markdown",
   "metadata": {},
   "source": [
    "ERA-Interim:"
   ]
  },
  {
   "cell_type": "code",
   "execution_count": 3,
   "metadata": {},
   "outputs": [],
   "source": [
    "omega = ( xr.load_dataset('../../data/obs/ERAI_omega500_monthly_2007-2018.remapcon_ceresgrid.nc')\n",
    "         [['initial_time0_hours', 'lat', 'lon', 'W_GDS4_ISBL_S123']].\n",
    "         rename({'initial_time0_hours':'time', 'W_GDS4_ISBL_S123':'omega'}) )\n",
    "# convert omega from Pa/s to hPa/day\n",
    "omega['omega'] = omega['omega']*86400/100\n",
    "#exclude February 2016\n",
    "omega = omega.sel(time=~((omega.time.dt.year == 2016) & (omega.time.dt.month == 2)))"
   ]
  },
  {
   "cell_type": "code",
   "execution_count": 4,
   "metadata": {},
   "outputs": [],
   "source": [
    "# sea-land mask: ocean=0, land=1\n",
    "slm = xr.load_dataset('../../data/obs/ERAI_land.remapcon_ceresgrid.nc').isel(time=0).drop('time')"
   ]
  },
  {
   "cell_type": "markdown",
   "metadata": {},
   "source": [
    "CERES EBAF:"
   ]
  },
  {
   "cell_type": "code",
   "execution_count": 5,
   "metadata": {},
   "outputs": [],
   "source": [
    "cre = xr.load_dataset('../../data/obs/CERES_EBAF_Ed4.1_200701-201812.cre_toa_sfc.nc')\n",
    "#exclude February 2016\n",
    "cre = cre.sel(time=~((cre.time.dt.year == 2016) & (cre.time.dt.month == 2)))"
   ]
  },
  {
   "cell_type": "markdown",
   "metadata": {},
   "source": [
    "CALIPSO-GOCCP:"
   ]
  },
  {
   "cell_type": "code",
   "execution_count": 6,
   "metadata": {},
   "outputs": [],
   "source": [
    "# note again that February 2016 is missing\n",
    "clc = ( xr.load_dataset('../../data/obs/MapLowMidHigh330m_200606-201910_avg_CFMIP2_sat_3.1.2'+\n",
    "                        '.2007-2018.remapcon_ceresgrid.nc')\n",
    "        [['clhcalipso','cltcalipso']].squeeze() )"
   ]
  },
  {
   "cell_type": "markdown",
   "metadata": {},
   "source": [
    "### Set all land points to zero"
   ]
  },
  {
   "cell_type": "markdown",
   "metadata": {},
   "source": [
    "This is a poor man's way to achieve the masking, but sufficient for the purpose here."
   ]
  },
  {
   "cell_type": "code",
   "execution_count": 7,
   "metadata": {},
   "outputs": [],
   "source": [
    "for i in range(slm.lon.size):\n",
    "    for j in range(slm.lat.size):\n",
    "        if slm['land'][j,i]>0.0:\n",
    "            omega['omega'       ][:,j,i] = np.nan\n",
    "            cre['toa_cre_sw_mon'][:,j,i] = np.nan\n",
    "            cre['toa_cre_lw_mon'][:,j,i] = np.nan\n",
    "            cre['sfc_cre_net_sw_mon'][:,j,i] = np.nan\n",
    "            cre['sfc_cre_net_lw_mon'][:,j,i] = np.nan\n",
    "            clc['clhcalipso'    ][:,j,i] = np.nan\n",
    "            clc['cltcalipso'    ][:,j,i] = np.nan "
   ]
  },
  {
   "cell_type": "markdown",
   "metadata": {},
   "source": [
    "### Sampling based on vertical velocity"
   ]
  },
  {
   "cell_type": "markdown",
   "metadata": {},
   "source": [
    "Define omega bins: 5hPa/day wide omega bins with centers ranging from -97.5 to 97.5."
   ]
  },
  {
   "cell_type": "code",
   "execution_count": 8,
   "metadata": {},
   "outputs": [],
   "source": [
    "bins_edges = 100*np.linspace(-1,1,41)\n",
    "bins = bins_edges[0:40]+2.5"
   ]
  },
  {
   "cell_type": "markdown",
   "metadata": {},
   "source": [
    "Sampling function"
   ]
  },
  {
   "cell_type": "code",
   "execution_count": 9,
   "metadata": {},
   "outputs": [],
   "source": [
    "def make_omega_sampling(omega, data, bins_edges):\n",
    "    # define surface area weights\n",
    "    weights   = ( omega*0.0 + \n",
    "                  np.expand_dims(np.cos(np.deg2rad(omega.lat)), axis=[0,2]) )\n",
    "    # make omega histogram\n",
    "    counts, _ = np.histogram( omega, bins=bins_edges, weights=weights, density=True )\n",
    "    # for each entry of omega, indices gives the bin index it belongs to\n",
    "    indices   = np.digitize(omega, bins)\n",
    "    # resample data on omega bins\n",
    "    data_sampled = np.zeros(bins.size)\n",
    "    for ibin in range(bins.size):\n",
    "        data_sampled[ibin] = ( np.nansum( data.values[indices==ibin] *\n",
    "                                          weights.values[indices==ibin] ) /\n",
    "                               np.nansum( weights.values[indices==ibin] ) )\n",
    "    return counts, data_sampled"
   ]
  },
  {
   "cell_type": "markdown",
   "metadata": {},
   "source": [
    "Definition of tropical sampling region: only points between 30 deg N/S are taken into account."
   ]
  },
  {
   "cell_type": "code",
   "execution_count": 10,
   "metadata": {},
   "outputs": [],
   "source": [
    "latn=30; lats=-30"
   ]
  },
  {
   "cell_type": "code",
   "execution_count": 11,
   "metadata": {},
   "outputs": [],
   "source": [
    "omega_pdf, toaswcre_sampled = make_omega_sampling(omega['omega'].sel(lat=slice(lats,latn)),\n",
    "                                               cre['toa_cre_sw_mon'].sel(lat=slice(lats,latn)),\n",
    "                                               bins_edges)\n",
    "_,         atmlwcre_sampled = make_omega_sampling(omega['omega'].sel(lat=slice(lats,latn)),\n",
    "                                               cre['toa_cre_lw_mon'].sel(lat=slice(lats,latn))-\n",
    "                                               cre['sfc_cre_net_lw_mon'].sel(lat=slice(lats,latn)),\n",
    "                                               bins_edges)\n",
    "_,         atmswcre_sampled = make_omega_sampling(omega['omega'].sel(lat=slice(lats,latn)),\n",
    "                                               cre['toa_cre_sw_mon'].sel(lat=slice(lats,latn))-\n",
    "                                               cre['sfc_cre_net_sw_mon'].sel(lat=slice(lats,latn)),\n",
    "                                               bins_edges)\n",
    "_,         clch_sampled  = make_omega_sampling(omega['omega'].sel(lat=slice(lats,latn)),\n",
    "                                               clc['clhcalipso'].sel(lat=slice(lats,latn)),\n",
    "                                               bins_edges)\n",
    "_,         clct_sampled  = make_omega_sampling(omega['omega'].sel(lat=slice(lats,latn)),\n",
    "                                               clc['cltcalipso'].sel(lat=slice(lats,latn)),\n",
    "                                               bins_edges)"
   ]
  },
  {
   "cell_type": "markdown",
   "metadata": {},
   "source": [
    "### Plotting"
   ]
  },
  {
   "cell_type": "code",
   "execution_count": 12,
   "metadata": {},
   "outputs": [
    {
     "data": {
      "image/png": "[encoded data removed]",
      "text/plain": [
       "<Figure size 425.88x216 with 2 Axes>"
      ]
     },
     "metadata": {
      "needs_background": "light"
     },
     "output_type": "display_data"
    }
   ],
   "source": [
    "plt.figure(figsize=(5.915,3))\n",
    "ax = plt.subplot(1,1,1)\n",
    "ax.spines['left'].set_bounds(10, 90)\n",
    "ax.spines['bottom'].set_bounds(-80,80)\n",
    "ax.spines['top'].set_color('none')\n",
    "ax.spines['right'].set_color('none')\n",
    "plt.plot(bins[4:36], 100*clch_sampled[4:36], 'dimgray', linestyle='--')\n",
    "plt.plot(bins[4:36], 100*clct_sampled[4:36], 'k', linestyle='--')\n",
    "plt.xlim(-90,90); plt.ylim(10,90)\n",
    "ax.xaxis.set_ticks([-80,-60,-40,-20,0,20,40,60,80])\n",
    "ax.xaxis.set_ticklabels([-80,-60,-40,-20,0,20,40,60,80], fontsize=8)\n",
    "ax.yaxis.set_ticks([10,20,30,40,50,60,70,80,90])\n",
    "ax.yaxis.set_ticklabels([10,'',30,'',50,'',70,'',90], fontsize=8)\n",
    "plt.xlabel(r'$\\omega_{500}$ / hPa day$^{-1}$',fontsize=10)\n",
    "plt.ylabel('cloud cover / %',fontsize=10)\n",
    "\n",
    "# twin object for two different y-axis on the sample plot\n",
    "ax2=ax.twinx()\n",
    "ax2.spines['right'].set_bounds(-90, 60)\n",
    "ax2.spines['bottom'].set_color('none')\n",
    "ax2.spines['top'].set_color('none')\n",
    "ax2.spines['left'].set_color('none')\n",
    "ax2.plot(bins[4:36],toaswcre_sampled[4:36],'royalblue') \n",
    "ax2.plot(bins[4:36],atmlwcre_sampled[4:36]+atmswcre_sampled[4:36],'firebrick')\n",
    "plt.xlim(-90,90);plt.ylim(-90,60)\n",
    "ax2.yaxis.set_ticks([-90,-60,-30,0,30,60])\n",
    "ax2.yaxis.set_ticklabels([-90,-60,-30,0,30,60], fontsize=8)\n",
    "plt.ylabel(r'CRE / Wm$^{-2}$',fontsize=10)\n",
    "\n",
    "plt.text(80,65,'total cloud cover', ha='right', color='k', size=12)\n",
    "plt.text(80,53,'high-level cloud cover', ha='right', color='dimgray', size=12)\n",
    "plt.text(80,41,'TOA SW CRE', ha='right', color='royalblue', size=12)\n",
    "plt.text(80,29,'ATM NET CRE', ha='right', color='firebrick', size=12)\n",
    "\n",
    "plt.savefig('figure-1b.pdf')"
   ]
  }
 ],
 "metadata": {
  "kernelspec": {
   "display_name": "Python 3",
   "language": "python",
   "name": "python3"
  },
  "language_info": {
   "codemirror_mode": {
    "name": "ipython",
    "version": 3
   },
   "file_extension": ".py",
   "mimetype": "text/x-python",
   "name": "python",
   "nbconvert_exporter": "python",
   "pygments_lexer": "ipython3",
   "version": "3.7.4"
  }
 },
 "nbformat": 4,
 "nbformat_minor": 4
}
