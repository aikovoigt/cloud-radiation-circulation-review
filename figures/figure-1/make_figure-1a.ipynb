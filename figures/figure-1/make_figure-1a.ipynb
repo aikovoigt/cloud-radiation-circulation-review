{
 "cells": [
  {
   "cell_type": "markdown",
   "metadata": {},
   "source": [
    "# Vertical distribution of cloud cover from CloudSat/CALIPSO\n",
    "\n",
    "This notebook reproduces Figure 1a.\n",
    "\n",
    "Data: cloud incidence from CloudSat/Calipso constructed by Ying Li, CSU, USA."
   ]
  },
  {
   "cell_type": "markdown",
   "metadata": {},
   "source": [
    "### Load libraries"
   ]
  },
  {
   "cell_type": "code",
   "execution_count": 1,
   "metadata": {},
   "outputs": [],
   "source": [
    "import xarray as xr\n",
    "import numpy as np\n",
    "import matplotlib.pyplot as plt"
   ]
  },
  {
   "cell_type": "markdown",
   "metadata": {},
   "source": [
    "For reference, print package versions to screen:"
   ]
  },
  {
   "cell_type": "code",
   "execution_count": 2,
   "metadata": {},
   "outputs": [
    {
     "name": "stdout",
     "output_type": "stream",
     "text": [
      "xarrary:    0.15.1\n",
      "numpy:      1.18.1\n",
      "matplotlib: 3.2.1\n"
     ]
    }
   ],
   "source": [
    "print('xarrary:   ', xr.__version__)\n",
    "print('numpy:     ', np.__version__)\n",
    "import matplotlib; print('matplotlib:', matplotlib.__version__); del matplotlib"
   ]
  },
  {
   "cell_type": "markdown",
   "metadata": {},
   "source": [
    "## Load data"
   ]
  },
  {
   "cell_type": "code",
   "execution_count": 3,
   "metadata": {},
   "outputs": [],
   "source": [
    "cc = xr.open_dataset('../../data/obs/CloudSatCALIPSO_cloud_fraction_bin_sum_200606-201104.clim.nc').squeeze()"
   ]
  },
  {
   "cell_type": "markdown",
   "metadata": {},
   "source": [
    "## Plotting"
   ]
  },
  {
   "cell_type": "markdown",
   "metadata": {},
   "source": [
    "Make a cgrey colormap based on 'Greys' but not using the blackish colors for high values. This was taken from https://stackoverflow.com/questions/18926031/how-to-extract-a-subset-of-a-colormap-as-a-new-colormap-in-matplotlib."
   ]
  },
  {
   "cell_type": "code",
   "execution_count": 4,
   "metadata": {},
   "outputs": [],
   "source": [
    "import matplotlib.colors as colors\n",
    "\n",
    "def truncate_colormap(cmap, minval=0.0, maxval=1.0, n=100):\n",
    "    new_cmap = colors.LinearSegmentedColormap.from_list(\n",
    "        'trunc({n},{a:.2f},{b:.2f})'.format(n=cmap.name, a=minval, b=maxval),\n",
    "        cmap(np.linspace(minval, maxval, n)))\n",
    "    return new_cmap\n",
    "\n",
    "my_Greys = truncate_colormap(plt.get_cmap('Greys'), 0.0, 0.8)"
   ]
  },
  {
   "cell_type": "markdown",
   "metadata": {},
   "source": [
    "Latitude-pressure view of cloud incidence from CloudSat/Calipso"
   ]
  },
  {
   "cell_type": "code",
   "execution_count": 5,
   "metadata": {},
   "outputs": [
    {
     "name": "stderr",
     "output_type": "stream",
     "text": [
      "/home/fd8940/anaconda3/lib/python3.7/site-packages/xarray/core/nanops.py:142: RuntimeWarning: Mean of empty slice\n",
      "  return np.nanmean(a, axis=axis, dtype=dtype)\n"
     ]
    },
    {
     "data": {
      "image/png": "[encoded data removed]",
      "text/plain": [
       "<Figure size 425.88x216 with 2 Axes>"
      ]
     },
     "metadata": {
      "needs_background": "light"
     },
     "output_type": "display_data"
    }
   ],
   "source": [
    "clev=np.array([0,5,10,15,20,25,30,35])\n",
    "\n",
    "plt.figure(figsize=(5.915, 3))\n",
    "ax=plt.subplot(1,1,1)\n",
    "plt.contourf(cc.lat, cc.lev/1000, cc['cloud_fraction'].mean('lon'), clev, cmap=my_Greys)\n",
    "cb=plt.colorbar(aspect=25,fraction=0.03)\n",
    "cb.set_ticks([0,5,10,15,20,25,30,35]) # vertically oriented colorbar\n",
    "cb.ax.tick_params(labelsize=8)\n",
    "plt.xlim(-80,80)\n",
    "plt.ylim(0.1,18)\n",
    "plt.xlabel('latitude',fontsize=10); plt.ylabel('height / km', fontsize=10)\n",
    "plt.xticks([-80,-60,-40,-20,0,20,40,60,80],['80N','60S', '40S', '20S', 'Eq', '20N', '40N', '60N', '80N'], fontsize=8);\n",
    "plt.yticks([0.1,1.5,3,4.5,6,7.5,9,10.5,12,13.5,15,16.5,18],['0.1','','3','','6','','9','','12','','15','','18'], fontsize=8);\n",
    "plt.text(1.07,-0.10,'%', fontsize=8,transform=ax.transAxes)\n",
    "plt.title('Cloud cover', fontsize=12)\n",
    "\n",
    "plt.savefig('figure-1a.pdf')"
   ]
  }
 ],
 "metadata": {
  "kernelspec": {
   "display_name": "Python 3",
   "language": "python",
   "name": "python3"
  },
  "language_info": {
   "codemirror_mode": {
    "name": "ipython",
    "version": 3
   },
   "file_extension": ".py",
   "mimetype": "text/x-python",
   "name": "python",
   "nbconvert_exporter": "python",
   "pygments_lexer": "ipython3",
   "version": "3.7.4"
  }
 },
 "nbformat": 4,
 "nbformat_minor": 4
}
