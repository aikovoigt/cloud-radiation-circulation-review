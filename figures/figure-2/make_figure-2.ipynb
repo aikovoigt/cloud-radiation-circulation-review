{
 "cells": [
  {
   "cell_type": "markdown",
   "metadata": {},
   "source": [
    "# TOA SW CRE sampled on omega at 500hPa in free and locked CESM pre-industrial simulations\n",
    "\n",
    "This notebook reproduces Fig. 2.\n",
    "\n",
    "Data: free and locked control coupled atmosphere-ocean simulations with CESM, data provided from Brian Medeiros. These data have also been used, e.g., in [Grise et al. (2020)](https://doi.org/10.1029/2019GL083542)."
   ]
  },
  {
   "cell_type": "markdown",
   "metadata": {},
   "source": [
    "### Load libraries"
   ]
  },
  {
   "cell_type": "code",
   "execution_count": 1,
   "metadata": {},
   "outputs": [],
   "source": [
    "import xarray as xr\n",
    "import numpy as np\n",
    "import matplotlib.pyplot as plt"
   ]
  },
  {
   "cell_type": "markdown",
   "metadata": {},
   "source": [
    "For reference, print package versions to screen:"
   ]
  },
  {
   "cell_type": "code",
   "execution_count": 2,
   "metadata": {},
   "outputs": [
    {
     "name": "stdout",
     "output_type": "stream",
     "text": [
      "xarrary:    0.15.1\n",
      "numpy:      1.18.1\n",
      "matplotlib: 3.2.1\n"
     ]
    }
   ],
   "source": [
    "print('xarrary:   ', xr.__version__)\n",
    "print('numpy:     ', np.__version__)\n",
    "import matplotlib; print('matplotlib:', matplotlib.__version__); del matplotlib"
   ]
  },
  {
   "cell_type": "markdown",
   "metadata": {},
   "source": [
    "### Load CESM data for free and locked cloud simulations"
   ]
  },
  {
   "cell_type": "code",
   "execution_count": 3,
   "metadata": {},
   "outputs": [],
   "source": [
    "def load_cesm_data_free(year1, year2):\n",
    "    \n",
    "    # omega at 500hPa, convert from Pa/s to hPa/day\n",
    "    ds_omega = ( xr.load_dataset('../../data/cesm/B1850_c201_CTL.cam.h2.0001-01-01-00000.ncrcat.OMEGA500.nc').\n",
    "                 sel(time=slice(year1, year2)).rename({'OMEGA500': 'omega'}).squeeze().drop('time_bnds') )\n",
    "    ds_omega['omega'] = ds_omega['omega']*86400/100\n",
    "    \n",
    "    # sw cre at toa\n",
    "    ds_toacresw = ( xr.load_dataset('../../data/cesm/B1850_c201_CTL.cam.h2.0001-01-01-00000.ncrcat.SWCF.nc').\n",
    "                    sel(time=slice(year1, year2)).rename({'SWCF': 'toacresw'}).drop('time_bnds') )\n",
    "    \n",
    "    return xr.merge([ds_omega, ds_toacresw])\n",
    "\n",
    "def load_cesm_data_lock(year1, year2):\n",
    "    \n",
    "    # omega at 500hPa, convert from Pa/s to hPa/day\n",
    "    ds_omega = ( xr.load_dataset('../../data/cesm//B1850_c201_CLOCK.cam.h2.0001-01-01-00000.ncrcat.OMEGA500.nc').\n",
    "                 sel(time=slice(year1, year2)).rename({'OMEGA500': 'omega'}).squeeze().drop('time_bnds') )\n",
    "    ds_omega['omega'] = ds_omega['omega']*86400/100\n",
    "    \n",
    "    # sw cre at toa\n",
    "    ds_toacresw = ( xr.load_dataset('../../data/cesm//B1850_c201_CLOCK.cam.h2.0001-01-01-00000.ncrcat.SWCF.nc').\n",
    "                    sel(time=slice(year1, year2)).rename({'SWCF': 'toacresw'}).drop('time_bnds') )\n",
    "    \n",
    "    return xr.merge([ds_omega, ds_toacresw])"
   ]
  },
  {
   "cell_type": "code",
   "execution_count": 4,
   "metadata": {},
   "outputs": [],
   "source": [
    "# load data, and also restrict to a subset of years\n",
    "ds_free = load_cesm_data_free(year1='0002', year2='0010')\n",
    "ds_lock = load_cesm_data_lock(year1='0002', year2='0010')"
   ]
  },
  {
   "cell_type": "markdown",
   "metadata": {},
   "source": [
    "### Also Load land-sea mask\n",
    "Note that pure ocean is land=0."
   ]
  },
  {
   "cell_type": "code",
   "execution_count": 5,
   "metadata": {},
   "outputs": [],
   "source": [
    "slm = xr.load_dataset('../../data/cesm/cesm2_f09_land.nc').rename({'LANDFRAC':'land'}).squeeze()"
   ]
  },
  {
   "cell_type": "markdown",
   "metadata": {},
   "source": [
    "### Set all points that are not purely ocean points to nan"
   ]
  },
  {
   "cell_type": "code",
   "execution_count": 6,
   "metadata": {},
   "outputs": [],
   "source": [
    "for i in range(slm.lon.size):\n",
    "    for j in range(slm.lat.size):\n",
    "        if slm['land'][j,i]>0.0:\n",
    "            for ivar in ['omega', 'toacresw']:\n",
    "                ds_free[ivar][:,j,i] = np.nan\n",
    "                ds_lock[ivar][:,j,i] = np.nan"
   ]
  },
  {
   "cell_type": "markdown",
   "metadata": {},
   "source": [
    "### Set up bins for omega-binning"
   ]
  },
  {
   "cell_type": "code",
   "execution_count": 7,
   "metadata": {},
   "outputs": [],
   "source": [
    "# 5hPa/day wide omega bins with centers ranging from -97.5 to 97.5\n",
    "bins_edges = 100*np.linspace(-1,1,41)\n",
    "bins = bins_edges[0:40]+2.5"
   ]
  },
  {
   "cell_type": "markdown",
   "metadata": {},
   "source": [
    "### Omega binning"
   ]
  },
  {
   "cell_type": "code",
   "execution_count": 8,
   "metadata": {},
   "outputs": [],
   "source": [
    "def make_omega_sampling(omega, data, bins_edges):\n",
    "    # define surface area weights\n",
    "    weights   = ( omega*0.0 + \n",
    "                  np.expand_dims(np.cos(np.deg2rad(omega.lat)), axis=[0,2]) )\n",
    "    # make omega histogram\n",
    "    counts, _ = np.histogram( omega, bins=bins_edges, weights=weights, density=True )\n",
    "    # for each entry of omega, indices gives the bin index it belongs to\n",
    "    indices   = np.digitize(omega, bins)\n",
    "    # resample data on omega bins\n",
    "    data_sampled = np.zeros(bins.size)\n",
    "    for ibin in range(bins.size):\n",
    "        data_sampled[ibin] = ( np.nansum( data.values[indices==ibin] *\n",
    "                                          weights.values[indices==ibin] ) /\n",
    "                               np.nansum( weights.values[indices==ibin] ) )\n",
    "    return counts, data_sampled"
   ]
  },
  {
   "cell_type": "markdown",
   "metadata": {},
   "source": [
    "Compute binning over the Southern Hemisphere extratropics, defined by the northern and southern latitude boundaries."
   ]
  },
  {
   "cell_type": "code",
   "execution_count": 9,
   "metadata": {},
   "outputs": [],
   "source": [
    "latn=-30; lats=-90"
   ]
  },
  {
   "cell_type": "markdown",
   "metadata": {},
   "source": [
    "Now call binning routine for daily-mean data"
   ]
  },
  {
   "cell_type": "code",
   "execution_count": 10,
   "metadata": {},
   "outputs": [],
   "source": [
    "omega_free_pdf, toacresw_free_sampled = make_omega_sampling(ds_free['omega'].sel(lat=slice(lats,latn)),\n",
    "                                               ds_free['toacresw'].sel(lat=slice(lats,latn)),\n",
    "                                               bins_edges)\n",
    "omega_lock_pdf, toacresw_lock_sampled = make_omega_sampling(ds_lock['omega'].sel(lat=slice(lats,latn)),\n",
    "                                               ds_lock['toacresw'].sel(lat=slice(lats,latn)),\n",
    "                                               bins_edges)"
   ]
  },
  {
   "cell_type": "markdown",
   "metadata": {},
   "source": [
    "Now call binning routine for monthly-mean data"
   ]
  },
  {
   "cell_type": "code",
   "execution_count": 11,
   "metadata": {},
   "outputs": [
    {
     "name": "stderr",
     "output_type": "stream",
     "text": [
      "/home/fd8940/anaconda3/lib/python3.7/site-packages/xarray/core/nanops.py:142: RuntimeWarning: Mean of empty slice\n",
      "  return np.nanmean(a, axis=axis, dtype=dtype)\n"
     ]
    }
   ],
   "source": [
    "omega_free_mm_pdf, toacresw_free_mm_sampled = make_omega_sampling(\n",
    "    ds_free['omega'].sel(lat=slice(lats,latn)).resample(time=\"1M\").mean(),\n",
    "    ds_free['toacresw'].sel(lat=slice(lats,latn)).resample(time=\"1M\").mean(),\n",
    "    bins_edges)\n",
    "omega_lock_mm_pdf, toacresw_lock_mm_sampled = make_omega_sampling(\n",
    "    ds_lock['omega'].sel(lat=slice(lats,latn)).resample(time=\"1M\").mean(),\n",
    "    ds_lock['toacresw'].sel(lat=slice(lats,latn)).resample(time=\"1M\").mean(),\n",
    "    bins_edges)"
   ]
  },
  {
   "cell_type": "markdown",
   "metadata": {},
   "source": [
    "### Plotting\n",
    "\n",
    "Only plot between -80 and 80 hPa/day (bins[4:36]), so as to avoid sampling issues for extreme omega values."
   ]
  },
  {
   "cell_type": "code",
   "execution_count": 12,
   "metadata": {},
   "outputs": [
    {
     "data": {
      "image/png": "[encoded data removed]",
      "text/plain": [
       "<Figure size 720x216 with 3 Axes>"
      ]
     },
     "metadata": {
      "needs_background": "light"
     },
     "output_type": "display_data"
    }
   ],
   "source": [
    "plt.figure(figsize=(10,3))\n",
    "\n",
    "ax=plt.subplot(1,3,1)\n",
    "ax.spines['left'].set_bounds(0,2.2)\n",
    "ax.spines['bottom'].set_bounds(-80,80)\n",
    "ax.spines['top'].set_color('none')\n",
    "ax.spines['right'].set_color('none')\n",
    "plt.plot(bins[4:36], 100*omega_free_pdf[4:36],'royalblue', label='free')\n",
    "plt.plot(bins[4:36], 100*omega_lock_pdf[4:36],'royalblue', linestyle='--', label='lock')\n",
    "plt.plot(bins[4:36], 100*omega_free_mm_pdf[4:36],'dimgray', label='free')\n",
    "plt.plot(bins[4:36], 100*omega_lock_mm_pdf[4:36],'dimgray', linestyle='--', label='lock')\n",
    "ax.xaxis.set_ticks([-80,-60,-40,-20,0,20,40,60,80])\n",
    "ax.xaxis.set_ticklabels([-80,'',-40,'',0,'',40,'',80], fontsize=8)\n",
    "ax.yaxis.set_ticks([0,0.5,1,1.5,2,2.5,3])\n",
    "ax.yaxis.set_ticklabels([0,'',1,'',2,'',3], fontsize=8)\n",
    "plt.xlabel(r'$\\omega_{500}$ / hPa day$^{-1}$',fontsize=10)\n",
    "plt.ylabel('relative frequency / %',fontsize=10)\n",
    "plt.xlim(-90,80)\n",
    "plt.ylim(0,2.2)\n",
    "\n",
    "ax=plt.subplot(1,3,2)\n",
    "ax.spines['left'].set_bounds(-80,-40)\n",
    "ax.spines['bottom'].set_bounds(-80,80)\n",
    "ax.spines['top'].set_color('none')\n",
    "ax.spines['right'].set_color('none')\n",
    "plt.plot(bins[4:36], toacresw_free_sampled[4:36],'royalblue')\n",
    "plt.plot(bins[4:36], toacresw_lock_sampled[4:36],'royalblue', linestyle='--')\n",
    "ax.xaxis.set_ticks([-80,-60,-40,-20,0,20,40,60,80])\n",
    "ax.xaxis.set_ticklabels([-80,'',-40,'',0,'',40,'',80], fontsize=8)\n",
    "ax.yaxis.set_ticks([-80,-70,-60,-50,-40])\n",
    "ax.yaxis.set_ticklabels([-80,'',-60,'',-40], fontsize=8)\n",
    "plt.xlabel(r'$\\omega_{500}$ / hPa day$^{-1}$',fontsize=10)\n",
    "plt.ylabel(r'TOA SW CRE / W m$^{-2}$',fontsize=10)\n",
    "plt.xlim(-90,80)\n",
    "plt.ylim(-80,-40)\n",
    "plt.text(-80,-40, 'daily-mean sampling', size=12, color='royalblue', va='top', ha='left')\n",
    "\n",
    "ax=plt.subplot(1,3,3)\n",
    "ax.spines['left'].set_bounds(-80,-40)\n",
    "ax.spines['bottom'].set_bounds(-80,80)\n",
    "ax.spines['top'].set_color('none')\n",
    "ax.spines['right'].set_color('none')\n",
    "plt.plot(bins[4:36], toacresw_free_mm_sampled[4:36],'dimgray')\n",
    "plt.plot(bins[4:36], toacresw_lock_mm_sampled[4:36],'dimgray', linestyle='--')\n",
    "ax.xaxis.set_ticks([-80,-60,-40,-20,0,20,40,60,80])\n",
    "ax.xaxis.set_ticklabels([-80,'',-40,'',0,'',40,'',80], fontsize=8)\n",
    "ax.yaxis.set_ticks([-80,-70,-60,-50,-40])\n",
    "ax.yaxis.set_ticklabels([-80,'',-60,'',-40], fontsize=8)\n",
    "plt.xlabel(r'$\\omega_{500}$ / hPa day$^{-1}$',fontsize=10)\n",
    "plt.ylabel(r'TOA SW CRE / W m$^{-2}$',fontsize=10)\n",
    "plt.xlim(-90,80)\n",
    "plt.ylim(-80,-40)\n",
    "plt.text(-80,-40, 'monthly-mean sampling', size=12, color='dimgray', va='top', ha='left')\n",
    "\n",
    "plt.savefig('figure-2.pdf')"
   ]
  }
 ],
 "metadata": {
  "kernelspec": {
   "display_name": "Python 3",
   "language": "python",
   "name": "python3"
  },
  "language_info": {
   "codemirror_mode": {
    "name": "ipython",
    "version": 3
   },
   "file_extension": ".py",
   "mimetype": "text/x-python",
   "name": "python",
   "nbconvert_exporter": "python",
   "pygments_lexer": "ipython3",
   "version": "3.7.4"
  }
 },
 "nbformat": 4,
 "nbformat_minor": 4
}
