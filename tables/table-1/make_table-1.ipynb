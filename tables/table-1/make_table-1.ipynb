{
 "cells": [
  {
   "cell_type": "markdown",
   "metadata": {},
   "source": [
    "# COOKIE AMIP cloud on - cloud off: change in precipitation and circulaton metrics\n",
    "\n",
    "This notebook reproduces Table 1.\n",
    "\n",
    "Data: COOKIE amip on and off simulations, time-avergaed between years 1980 and 2008. Data is used on the models' native horizontal grids."
   ]
  },
  {
   "cell_type": "markdown",
   "metadata": {},
   "source": [
    "### Load libraries"
   ]
  },
  {
   "cell_type": "code",
   "execution_count": 1,
   "metadata": {},
   "outputs": [],
   "source": [
    "import xarray as xr\n",
    "import numpy as np"
   ]
  },
  {
   "cell_type": "markdown",
   "metadata": {},
   "source": [
    "Functions for calculating ITCZ and Jet:"
   ]
  },
  {
   "cell_type": "code",
   "execution_count": 2,
   "metadata": {},
   "outputs": [],
   "source": [
    "import metrics as mt"
   ]
  },
  {
   "cell_type": "markdown",
   "metadata": {},
   "source": [
    "For reference, print package versions to screen:"
   ]
  },
  {
   "cell_type": "code",
   "execution_count": 3,
   "metadata": {},
   "outputs": [
    {
     "name": "stdout",
     "output_type": "stream",
     "text": [
      "xarrary:    0.15.1\n",
      "numpy:      1.18.1\n"
     ]
    }
   ],
   "source": [
    "print('xarrary:   ', xr.__version__)\n",
    "print('numpy:     ', np.__version__)"
   ]
  },
  {
   "cell_type": "markdown",
   "metadata": {},
   "source": [
    "### Load data"
   ]
  },
  {
   "cell_type": "code",
   "execution_count": 4,
   "metadata": {},
   "outputs": [],
   "source": [
    "models=['CNRM-CM5', 'HadGEM2-A', 'IPSL-CM5A-LR', 'MPI-CM5', 'MRI-CGCM3']"
   ]
  },
  {
   "cell_type": "markdown",
   "metadata": {},
   "source": [
    "Precipitation and zonal wind at 850 hPa:"
   ]
  },
  {
   "cell_type": "code",
   "execution_count": 5,
   "metadata": {},
   "outputs": [
    {
     "name": "stderr",
     "output_type": "stream",
     "text": [
      "/home/fd8940/anaconda3/lib/python3.7/site-packages/xarray/core/nanops.py:142: RuntimeWarning: Mean of empty slice\n",
      "  return np.nanmean(a, axis=axis, dtype=dtype)\n",
      "/home/fd8940/anaconda3/lib/python3.7/site-packages/xarray/core/nanops.py:142: RuntimeWarning: Mean of empty slice\n",
      "  return np.nanmean(a, axis=axis, dtype=dtype)\n",
      "/home/fd8940/anaconda3/lib/python3.7/site-packages/xarray/core/nanops.py:142: RuntimeWarning: Mean of empty slice\n",
      "  return np.nanmean(a, axis=axis, dtype=dtype)\n",
      "/home/fd8940/anaconda3/lib/python3.7/site-packages/xarray/core/nanops.py:142: RuntimeWarning: Mean of empty slice\n",
      "  return np.nanmean(a, axis=axis, dtype=dtype)\n"
     ]
    }
   ],
   "source": [
    "def load_pr_ua850(var, varname, exp):\n",
    "    ds_list = []\n",
    "    for mod in models:\n",
    "        ds_list.append( ( xr.open_dataset('../../data/cookie/'+var+'_'+mod+'_'+exp+'.timmean_1980-2008.nc')\n",
    "                         [varname].mean('lon').squeeze() ) )\n",
    "    return ds_list\n",
    "\n",
    "p_on  = load_pr_ua850('pr'   , 'pr', 'amip'      )\n",
    "p_off = load_pr_ua850('pr'   , 'pr', 'offamip_mm')\n",
    "u_on  = load_pr_ua850('ua850', 'ua', 'amip'      )\n",
    "u_off = load_pr_ua850('ua850', 'ua', 'offamip_mm')"
   ]
  },
  {
   "cell_type": "markdown",
   "metadata": {},
   "source": [
    "Mass stream function calculated by cdo mastrfu:"
   ]
  },
  {
   "cell_type": "code",
   "execution_count": 6,
   "metadata": {},
   "outputs": [],
   "source": [
    "def load_msf(exp):\n",
    "    ds_list = []\n",
    "    for mod in models:\n",
    "        ds = ( xr.open_dataset('../../data/cookie/msf_'+mod+'_'+exp+'.timmean_1980-2008.nc')\n",
    "                         ['mastrfu'].squeeze() )\n",
    "        if mod == 'MPI-CM5': # rename lev to plev to be consistent with other models\n",
    "            ds = ds.rename({'lev': 'plev'})\n",
    "        ds = ds/1.0e9 # adapt units of mass stream function\n",
    "        ds_list.append(ds)        \n",
    "            \n",
    "    return ds_list\n",
    "\n",
    "msf_on  = load_msf('amip'      )\n",
    "msf_off = load_msf('offamip_mm')"
   ]
  },
  {
   "cell_type": "markdown",
   "metadata": {},
   "source": [
    "### Calculate precipitation and circulation metrics"
   ]
  },
  {
   "cell_type": "markdown",
   "metadata": {},
   "source": [
    "#### 1. Change in regional precipitation "
   ]
  },
  {
   "cell_type": "code",
   "execution_count": 7,
   "metadata": {},
   "outputs": [],
   "source": [
    "dp_glob = [] # global mean\n",
    "dp_trop = [] # tropical mean\n",
    "dp_extr = [] # extratropical mean\n",
    "\n",
    "for i in range(len(p_on)):\n",
    "    # define surface area weights\n",
    "    weights   =  p_on[i] + np.cos(np.deg2rad(p_on[i].lat.values))\n",
    "    # global mean\n",
    "    aux = 86400*(p_on[i].values - p_off[i].values) \n",
    "    dp_glob.append( np.average(aux, weights=weights) )\n",
    "    # tropical mean\n",
    "    aux = 86400*(p_on[i].sel(lat=slice(-30,30)).values - p_off[i].sel(lat=slice(-30,30)).values)\n",
    "    dp_trop.append( np.average(aux, weights=weights.sel(lat=slice(-30,30))) )\n",
    "    # extratropical mean\n",
    "    aux = 86400*(p_on[i].sel(lat=slice(-90,-30)).values -  p_off[i].sel(lat=slice(-90,-30)).values)\n",
    "    sh = np.average(aux, weights=weights.sel(lat=slice(-90,-30)))\n",
    "    aux = 86400*(p_on[i].sel(lat=slice(30,90)).values -  p_off[i].sel(lat=slice(30,90)).values)\n",
    "    nh = np.average(aux, weights=weights.sel(lat=slice(30,90)))\n",
    "    dp_extr.append( 0.5*(nh+sh) )"
   ]
  },
  {
   "cell_type": "markdown",
   "metadata": {},
   "source": [
    "#### 2. Change in ITCZ position"
   ]
  },
  {
   "cell_type": "code",
   "execution_count": 8,
   "metadata": {},
   "outputs": [],
   "source": [
    "ditcz = []\n",
    "for i in range(len(p_on)):\n",
    "    itcz_on  = mt.get_itczposition(p_on[i],  p_on[i].lat )\n",
    "    itcz_off = mt.get_itczposition(p_off[i], p_off[i].lat)\n",
    "    ditcz.append(itcz_on-itcz_off)"
   ]
  },
  {
   "cell_type": "markdown",
   "metadata": {},
   "source": [
    "#### 3. Change in Hadley cell strength"
   ]
  },
  {
   "cell_type": "code",
   "execution_count": 9,
   "metadata": {},
   "outputs": [],
   "source": [
    "dhc_sh = []\n",
    "dhc_nh =[]\n",
    "for i in range(len(models)):\n",
    "    dhc_sh.append( -1* ( msf_on[i].sel(lat=slice(-30,0), plev=slice(850e2,200e2)).max().values -\n",
    "                         msf_off[i].sel(lat=slice(-30,0), plev=slice(850e2,200e2)).max().values ) )\n",
    "    dhc_nh.append( msf_on[i].sel(lat=slice(0,30), plev=slice(850e2,200e2)).max().values -\n",
    "                   msf_off[i].sel(lat=slice(0,30), plev=slice(850e2,200e2)).max().values )"
   ]
  },
  {
   "cell_type": "markdown",
   "metadata": {},
   "source": [
    "#### 4. Change in jet position and strength"
   ]
  },
  {
   "cell_type": "code",
   "execution_count": 10,
   "metadata": {},
   "outputs": [],
   "source": [
    "djetpos_nh = [] # NH jet position\n",
    "djetpos_sh = [] # SH jet position\n",
    "djetmag_nh = [] # NH jet strength\n",
    "djetmag_sh = [] # SH jet strength\n",
    "\n",
    "for i in range(len(u_on)):\n",
    "    jetpos_sh_on , jetmag_sh_on , jetpos_nh_on , jetmag_nh_on  = mt.get_eddyjetlatint(u_on[i] , u_on[i].lat )\n",
    "    jetpos_sh_off, jetmag_sh_off, jetpos_nh_off, jetmag_nh_off = mt.get_eddyjetlatint(u_off[i], u_off[i].lat)\n",
    "    djetpos_nh.append(    jetpos_nh_on-jetpos_nh_off)\n",
    "    djetpos_sh.append(-1*(jetpos_sh_on-jetpos_sh_off) )\n",
    "    djetmag_nh.append(jetmag_nh_on-jetmag_nh_off)\n",
    "    djetmag_sh.append(jetmag_sh_on-jetmag_sh_off)"
   ]
  },
  {
   "cell_type": "markdown",
   "metadata": {},
   "source": [
    "### Print to screen in latex-ready format"
   ]
  },
  {
   "cell_type": "code",
   "execution_count": 11,
   "metadata": {},
   "outputs": [
    {
     "name": "stdout",
     "output_type": "stream",
     "text": [
      "model            Ptrop     Pextr     Pglob    ITCZ    NHHC   SHHC   NHJetpos SHJetpos NHJetmag SHJetmag\n",
      "CNRM-CM5      &  -0.24  &  0.20  &  -0.02  &  0.3  &   11  &   -1  &   0.1  &  -1.6  &   0.2  &  -0.5  \\\n",
      "HadGEM2-A     &  -0.27  &  0.12  &  -0.07  &  1.0  &  -14  &    9  &  -1.2  &  -0.4  &   0.5  &  -0.1  \\\n",
      "IPSL-CM5A-LR  &  -0.31  &  0.15  &  -0.08  &  0.0  &   -5  &   -4  &   6.3  &  -1.0  &   1.1  &   1.1  \\\n",
      "MPI-CM5       &  -0.29  &  0.21  &  -0.04  &  1.0  &   -2  &   -3  &  -0.6  &  -2.0  &   0.4  &  -0.7  \\\n",
      "MRI-CGCM3     &  -0.35  &  0.08  &  -0.14  &  0.9  &  -25  &    4  &   7.5  &   1.1  &   0.6  &   0.4  \\\n"
     ]
    }
   ],
   "source": [
    "print('model            Ptrop     Pextr     Pglob    ITCZ    NHHC   SHHC   NHJetpos SHJetpos NHJetmag SHJetmag')\n",
    "for i in range(len(models)):\n",
    "    print('{:12s}'.format(models[i]), ' & ', \n",
    "          '{:3.2f}'.format(dp_trop[i].round(decimals=2)), ' & ', \n",
    "          '{:3.2f}'.format(dp_extr[i].round(decimals=2)), ' & ', \n",
    "          '{:3.2f}'.format(dp_glob[i].round(decimals=2)), ' & ',\n",
    "          '{:1.1f}'.format(ditcz[i].round(decimals=1))  , ' & ', \n",
    "          '{:3.0f}'.format(dhc_nh[i].round(decimals=0)) , ' & ', \n",
    "          '{:3.0f}'.format(dhc_sh[i].round(decimals=0)) , ' & ',\n",
    "          '{:4.1f}'.format(djetpos_nh[i].round(decimals=1)), ' & ',\n",
    "          '{:4.1f}'.format(djetpos_sh[i].round(decimals=1)), ' & ',\n",
    "          '{:4.1f}'.format(djetmag_nh[i].round(decimals=1)), ' & ',\n",
    "          '{:4.1f}'.format(djetmag_sh[i].round(decimals=1)), ' \\\\')"
   ]
  },
  {
   "cell_type": "markdown",
   "metadata": {},
   "source": [
    "### Illustration of the flat meridional profile of zonal wind in IPSL-CM5A-LR and MRI-CGCM3, which leads to the large diagnosed NH jet shifts, MPI-CM5 for comparison"
   ]
  },
  {
   "cell_type": "code",
   "execution_count": 12,
   "metadata": {},
   "outputs": [],
   "source": [
    "import matplotlib.pyplot as plt"
   ]
  },
  {
   "cell_type": "code",
   "execution_count": 13,
   "metadata": {},
   "outputs": [
    {
     "data": {
      "image/png": "[encoded data removed]",
      "text/plain": [
       "<Figure size 864x288 with 3 Axes>"
      ]
     },
     "metadata": {
      "needs_background": "light"
     },
     "output_type": "display_data"
    }
   ],
   "source": [
    "plt.figure(figsize=(12,4))\n",
    "\n",
    "# IPSL-CM5A-LR\n",
    "plt.subplot(1,3,1)\n",
    "plt.title(models[2])\n",
    "plt.plot(u_on[2].lat, u_on[2].values)\n",
    "plt.plot(u_on[2].lat, u_off[2].values)\n",
    "plt.xlim(30,50)\n",
    "plt.ylim(0,10)\n",
    "plt.ylabel(r'zonal wind / ms$^{-1}$');\n",
    "plt.xlabel('deg latitude');\n",
    "\n",
    "# MRI-CGCM3\n",
    "plt.subplot(1,3,2)\n",
    "plt.title(models[4])\n",
    "plt.plot(u_on[4].lat, u_on[4].values)\n",
    "plt.plot(u_on[4].lat, u_off[4].values)\n",
    "plt.xlim(30,50)\n",
    "plt.ylim(0,10)\n",
    "plt.xlabel('deg latitude');\n",
    "\n",
    "# MPI-CM5\n",
    "plt.subplot(1,3,3)\n",
    "plt.title(models[3])\n",
    "plt.plot(u_on[3].lat, u_on[3].values)\n",
    "plt.plot(u_on[3].lat, u_off[3].values)\n",
    "plt.xlim(30,50)\n",
    "plt.ylim(0,10)\n",
    "plt.xlabel('deg latitude');"
   ]
  }
 ],
 "metadata": {
  "kernelspec": {
   "display_name": "Python 3",
   "language": "python",
   "name": "python3"
  },
  "language_info": {
   "codemirror_mode": {
    "name": "ipython",
    "version": 3
   },
   "file_extension": ".py",
   "mimetype": "text/x-python",
   "name": "python",
   "nbconvert_exporter": "python",
   "pygments_lexer": "ipython3",
   "version": "3.7.4"
  }
 },
 "nbformat": 4,
 "nbformat_minor": 4
}
